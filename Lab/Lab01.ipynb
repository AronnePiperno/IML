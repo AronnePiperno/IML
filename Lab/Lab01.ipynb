{
 "cells": [
  {
   "cell_type": "code",
   "execution_count": 1,
   "metadata": {
    "collapsed": true
   },
   "outputs": [],
   "source": [
    "import sklearn.metrics\n",
    "from sklearn import datasets\n",
    "import numpy as np\n",
    "\n",
    "wine_dataset = datasets.load_wine()"
   ]
  },
  {
   "cell_type": "code",
   "execution_count": 2,
   "outputs": [],
   "source": [
    "X = wine_dataset.data\n",
    "y = wine_dataset.target\n"
   ],
   "metadata": {
    "collapsed": false
   }
  },
  {
   "cell_type": "code",
   "execution_count": 5,
   "outputs": [
    {
     "data": {
      "text/plain": "(99, 13)"
     },
     "execution_count": 5,
     "metadata": {},
     "output_type": "execute_result"
    }
   ],
   "source": [
    "from sklearn.model_selection import train_test_split\n",
    "\n",
    "X_train, X_test, y_train, y_test = train_test_split(X, y, random_state=1, test_size=0.25)\n",
    "X_train, X_val, y_train, y_val = train_test_split(X_train, y_train, random_state=2, test_size=0.25)\n",
    "X_train.shape"
   ],
   "metadata": {
    "collapsed": false
   }
  },
  {
   "cell_type": "code",
   "execution_count": 6,
   "outputs": [],
   "source": [
    "from sklearn.neighbors import KNeighborsClassifier"
   ],
   "metadata": {
    "collapsed": false
   }
  },
  {
   "cell_type": "code",
   "execution_count": 7,
   "outputs": [],
   "source": [
    "n_neighbors = 5\n",
    "model = KNeighborsClassifier(n_neighbors)"
   ],
   "metadata": {
    "collapsed": false
   }
  },
  {
   "cell_type": "code",
   "execution_count": 8,
   "outputs": [
    {
     "data": {
      "text/plain": "KNeighborsClassifier()",
      "text/html": "<style>#sk-container-id-1 {color: black;background-color: white;}#sk-container-id-1 pre{padding: 0;}#sk-container-id-1 div.sk-toggleable {background-color: white;}#sk-container-id-1 label.sk-toggleable__label {cursor: pointer;display: block;width: 100%;margin-bottom: 0;padding: 0.3em;box-sizing: border-box;text-align: center;}#sk-container-id-1 label.sk-toggleable__label-arrow:before {content: \"▸\";float: left;margin-right: 0.25em;color: #696969;}#sk-container-id-1 label.sk-toggleable__label-arrow:hover:before {color: black;}#sk-container-id-1 div.sk-estimator:hover label.sk-toggleable__label-arrow:before {color: black;}#sk-container-id-1 div.sk-toggleable__content {max-height: 0;max-width: 0;overflow: hidden;text-align: left;background-color: #f0f8ff;}#sk-container-id-1 div.sk-toggleable__content pre {margin: 0.2em;color: black;border-radius: 0.25em;background-color: #f0f8ff;}#sk-container-id-1 input.sk-toggleable__control:checked~div.sk-toggleable__content {max-height: 200px;max-width: 100%;overflow: auto;}#sk-container-id-1 input.sk-toggleable__control:checked~label.sk-toggleable__label-arrow:before {content: \"▾\";}#sk-container-id-1 div.sk-estimator input.sk-toggleable__control:checked~label.sk-toggleable__label {background-color: #d4ebff;}#sk-container-id-1 div.sk-label input.sk-toggleable__control:checked~label.sk-toggleable__label {background-color: #d4ebff;}#sk-container-id-1 input.sk-hidden--visually {border: 0;clip: rect(1px 1px 1px 1px);clip: rect(1px, 1px, 1px, 1px);height: 1px;margin: -1px;overflow: hidden;padding: 0;position: absolute;width: 1px;}#sk-container-id-1 div.sk-estimator {font-family: monospace;background-color: #f0f8ff;border: 1px dotted black;border-radius: 0.25em;box-sizing: border-box;margin-bottom: 0.5em;}#sk-container-id-1 div.sk-estimator:hover {background-color: #d4ebff;}#sk-container-id-1 div.sk-parallel-item::after {content: \"\";width: 100%;border-bottom: 1px solid gray;flex-grow: 1;}#sk-container-id-1 div.sk-label:hover label.sk-toggleable__label {background-color: #d4ebff;}#sk-container-id-1 div.sk-serial::before {content: \"\";position: absolute;border-left: 1px solid gray;box-sizing: border-box;top: 0;bottom: 0;left: 50%;z-index: 0;}#sk-container-id-1 div.sk-serial {display: flex;flex-direction: column;align-items: center;background-color: white;padding-right: 0.2em;padding-left: 0.2em;position: relative;}#sk-container-id-1 div.sk-item {position: relative;z-index: 1;}#sk-container-id-1 div.sk-parallel {display: flex;align-items: stretch;justify-content: center;background-color: white;position: relative;}#sk-container-id-1 div.sk-item::before, #sk-container-id-1 div.sk-parallel-item::before {content: \"\";position: absolute;border-left: 1px solid gray;box-sizing: border-box;top: 0;bottom: 0;left: 50%;z-index: -1;}#sk-container-id-1 div.sk-parallel-item {display: flex;flex-direction: column;z-index: 1;position: relative;background-color: white;}#sk-container-id-1 div.sk-parallel-item:first-child::after {align-self: flex-end;width: 50%;}#sk-container-id-1 div.sk-parallel-item:last-child::after {align-self: flex-start;width: 50%;}#sk-container-id-1 div.sk-parallel-item:only-child::after {width: 0;}#sk-container-id-1 div.sk-dashed-wrapped {border: 1px dashed gray;margin: 0 0.4em 0.5em 0.4em;box-sizing: border-box;padding-bottom: 0.4em;background-color: white;}#sk-container-id-1 div.sk-label label {font-family: monospace;font-weight: bold;display: inline-block;line-height: 1.2em;}#sk-container-id-1 div.sk-label-container {text-align: center;}#sk-container-id-1 div.sk-container {/* jupyter's `normalize.less` sets `[hidden] { display: none; }` but bootstrap.min.css set `[hidden] { display: none !important; }` so we also need the `!important` here to be able to override the default hidden behavior on the sphinx rendered scikit-learn.org. See: https://github.com/scikit-learn/scikit-learn/issues/21755 */display: inline-block !important;position: relative;}#sk-container-id-1 div.sk-text-repr-fallback {display: none;}</style><div id=\"sk-container-id-1\" class=\"sk-top-container\"><div class=\"sk-text-repr-fallback\"><pre>KNeighborsClassifier()</pre><b>In a Jupyter environment, please rerun this cell to show the HTML representation or trust the notebook. <br />On GitHub, the HTML representation is unable to render, please try loading this page with nbviewer.org.</b></div><div class=\"sk-container\" hidden><div class=\"sk-item\"><div class=\"sk-estimator sk-toggleable\"><input class=\"sk-toggleable__control sk-hidden--visually\" id=\"sk-estimator-id-1\" type=\"checkbox\" checked><label for=\"sk-estimator-id-1\" class=\"sk-toggleable__label sk-toggleable__label-arrow\">KNeighborsClassifier</label><div class=\"sk-toggleable__content\"><pre>KNeighborsClassifier()</pre></div></div></div></div></div>"
     },
     "execution_count": 8,
     "metadata": {},
     "output_type": "execute_result"
    }
   ],
   "source": [
    "model.fit(X_train,y_train)"
   ],
   "metadata": {
    "collapsed": false
   }
  },
  {
   "cell_type": "code",
   "execution_count": 9,
   "outputs": [],
   "source": [
    "pred_val = model.predict(X_val)"
   ],
   "metadata": {
    "collapsed": false
   }
  },
  {
   "cell_type": "code",
   "execution_count": 10,
   "outputs": [
    {
     "name": "stdout",
     "output_type": "stream",
     "text": [
      "Accuracy on validation is 0.7647058823529411\n"
     ]
    }
   ],
   "source": [
    "accuracy = np.mean(pred_val == y_val)\n",
    "print(f'Accuracy on validation is {accuracy}')"
   ],
   "metadata": {
    "collapsed": false
   }
  },
  {
   "cell_type": "code",
   "execution_count": 12,
   "outputs": [],
   "source": [
    "from sklearn.metrics import confusion_matrix\n",
    "cm = confusion_matrix(y_val, pred_val)"
   ],
   "metadata": {
    "collapsed": false
   }
  },
  {
   "cell_type": "code",
   "execution_count": 13,
   "outputs": [
    {
     "data": {
      "text/plain": "array([[10,  1,  3],\n       [ 0, 10,  2],\n       [ 0,  2,  6]])"
     },
     "execution_count": 13,
     "metadata": {},
     "output_type": "execute_result"
    }
   ],
   "source": [
    "cm"
   ],
   "metadata": {
    "collapsed": false
   }
  },
  {
   "cell_type": "code",
   "execution_count": 14,
   "outputs": [
    {
     "data": {
      "text/plain": "<sklearn.metrics._plot.confusion_matrix.ConfusionMatrixDisplay at 0x7f554b2e2e90>"
     },
     "execution_count": 14,
     "metadata": {},
     "output_type": "execute_result"
    },
    {
     "data": {
      "text/plain": "<Figure size 640x480 with 2 Axes>",
      "image/png": "[encoded data removed]"
     },
     "metadata": {},
     "output_type": "display_data"
    }
   ],
   "source": [
    "from sklearn.metrics import ConfusionMatrixDisplay\n",
    "ConfusionMatrixDisplay(cm).plot()"
   ],
   "metadata": {
    "collapsed": false
   }
  },
  {
   "cell_type": "code",
   "execution_count": 16,
   "outputs": [
    {
     "name": "stdout",
     "output_type": "stream",
     "text": [
      "accuracy: 0.7647058823529411\n",
      "recall: 0.7658730158730158\n",
      "precision: 0.7715617715617715\n"
     ]
    }
   ],
   "source": [
    "import sklearn\n",
    "accuracy = sklearn.metrics.accuracy_score(y_val, pred_val)\n",
    "recall = sklearn.metrics.recall_score(y_val, pred_val, average = 'macro')\n",
    "precision = sklearn.metrics.precision_score(y_val, pred_val, average = 'macro')\n",
    "\n",
    "print(f'accuracy: {accuracy}')\n",
    "print(f'recall: {recall}')\n",
    "print(f'precision: {precision}')"
   ],
   "metadata": {
    "collapsed": false
   }
  },
  {
   "cell_type": "code",
   "execution_count": 17,
   "outputs": [
    {
     "name": "stdout",
     "output_type": "stream",
     "text": [
      "Accuracy on validation with k = 1 is 0.7352941176470589\n",
      "Accuracy on validation with k = 2 is 0.6764705882352942\n",
      "Accuracy on validation with k = 3 is 0.7352941176470589\n",
      "Accuracy on validation with k = 4 is 0.7352941176470589\n",
      "Accuracy on validation with k = 5 is 0.7647058823529411\n",
      "Accuracy on validation with k = 6 is 0.7647058823529411\n",
      "Accuracy on validation with k = 7 is 0.7352941176470589\n",
      "Accuracy on validation with k = 8 is 0.8235294117647058\n",
      "Accuracy on validation with k = 9 is 0.8235294117647058\n",
      "Accuracy on validation with k = 10 is 0.7058823529411765\n",
      "Accuracy on validation with k = 11 is 0.7647058823529411\n",
      "Accuracy on validation with k = 12 is 0.7941176470588235\n",
      "Accuracy on validation with k = 13 is 0.7352941176470589\n",
      "Accuracy on validation with k = 14 is 0.7941176470588235\n",
      "Accuracy on validation with k = 15 is 0.7647058823529411\n",
      "Accuracy on validation with k = 16 is 0.7352941176470589\n",
      "Accuracy on validation with k = 17 is 0.7352941176470589\n",
      "Accuracy on validation with k = 18 is 0.7647058823529411\n",
      "Accuracy on validation with k = 19 is 0.7647058823529411\n",
      "Accuracy on validation with k = 20 is 0.7647058823529411\n",
      "Accuracy on validation with k = 21 is 0.7647058823529411\n",
      "Accuracy on validation with k = 22 is 0.7647058823529411\n",
      "Accuracy on validation with k = 23 is 0.7647058823529411\n",
      "Accuracy on validation with k = 24 is 0.7647058823529411\n",
      "Accuracy on validation with k = 25 is 0.7647058823529411\n",
      "Accuracy on validation with k = 26 is 0.7941176470588235\n",
      "Accuracy on validation with k = 27 is 0.7647058823529411\n",
      "Accuracy on validation with k = 28 is 0.7941176470588235\n",
      "Accuracy on validation with k = 29 is 0.7941176470588235\n",
      "Accuracy on validation with k = 30 is 0.7941176470588235\n",
      "Accuracy on validation with k = 31 is 0.7941176470588235\n",
      "Accuracy on validation with k = 32 is 0.7941176470588235\n",
      "Accuracy on validation with k = 33 is 0.7647058823529411\n",
      "Accuracy on validation with k = 34 is 0.7647058823529411\n",
      "Accuracy on validation with k = 35 is 0.7941176470588235\n",
      "Accuracy on validation with k = 36 is 0.7647058823529411\n",
      "Accuracy on validation with k = 37 is 0.7647058823529411\n",
      "Accuracy on validation with k = 38 is 0.7352941176470589\n",
      "Accuracy on validation with k = 39 is 0.7941176470588235\n",
      "8 0.8235294117647058\n"
     ]
    }
   ],
   "source": [
    "best_k = 1\n",
    "best_accuracy = -1\n",
    "for k in range(1,40):\n",
    "    model = KNeighborsClassifier(k)\n",
    "    model.fit(X_train,y_train)\n",
    "    pred_val = model.predict(X_val)\n",
    "    accuracy = np.mean(pred_val == y_val)\n",
    "    print(f'Accuracy on validation with k = {k} is {accuracy}')\n",
    "    if accuracy > best_accuracy:\n",
    "        best_accuracy = accuracy\n",
    "        best_k = k\n",
    "\n",
    "print(best_k, best_accuracy)"
   ],
   "metadata": {
    "collapsed": false
   }
  },
  {
   "cell_type": "code",
   "execution_count": 21,
   "outputs": [
    {
     "name": "stdout",
     "output_type": "stream",
     "text": [
      "Accuracy on validation with k = 8 is 0.8235294117647058\n"
     ]
    },
    {
     "data": {
      "text/plain": "array([[12,  1,  1],\n       [ 1, 10,  1],\n       [ 0,  2,  6]])"
     },
     "execution_count": 21,
     "metadata": {},
     "output_type": "execute_result"
    }
   ],
   "source": [
    "k = 8\n",
    "model = KNeighborsClassifier(k)\n",
    "model.fit(X_train,y_train)\n",
    "pred_val = model.predict(X_val)\n",
    "accuracy = np.mean(pred_val == y_val)\n",
    "print(f'Accuracy on validation with k = {k} is {accuracy}')\n",
    "cm = confusion_matrix(y_val, pred_val)\n",
    "cm"
   ],
   "metadata": {
    "collapsed": false
   }
  },
  {
   "cell_type": "code",
   "execution_count": 23,
   "outputs": [
    {
     "data": {
      "text/plain": "array([14, 12,  8])"
     },
     "execution_count": 23,
     "metadata": {},
     "output_type": "execute_result"
    }
   ],
   "source": [
    "cm.sum(axis=1)\n"
   ],
   "metadata": {
    "collapsed": false
   }
  },
  {
   "cell_type": "code",
   "execution_count": 24,
   "outputs": [
    {
     "data": {
      "text/plain": "array([12, 10,  6])"
     },
     "execution_count": 24,
     "metadata": {},
     "output_type": "execute_result"
    }
   ],
   "source": [
    "cm[np.eye(3).astype('bool')]"
   ],
   "metadata": {
    "collapsed": false
   }
  }
 ],
 "metadata": {
  "kernelspec": {
   "display_name": "Python 3",
   "language": "python",
   "name": "python3"
  },
  "language_info": {
   "codemirror_mode": {
    "name": "ipython",
    "version": 2
   },
   "file_extension": ".py",
   "mimetype": "text/x-python",
   "name": "python",
   "nbconvert_exporter": "python",
   "pygments_lexer": "ipython2",
   "version": "2.7.6"
  }
 },
 "nbformat": 4,
 "nbformat_minor": 0
}
